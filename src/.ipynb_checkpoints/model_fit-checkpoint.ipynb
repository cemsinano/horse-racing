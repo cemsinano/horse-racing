{
 "cells": [
  {
   "cell_type": "code",
   "execution_count": 7,
   "metadata": {},
   "outputs": [],
   "source": [
    "# Import packages: \n",
    "\n",
    "import feather\n",
    "import pandas as pd\n",
    "import numpy as np\n",
    "\n",
    "# sklearn :\n",
    "from sklearn.linear_model import LogisticRegression\n",
    "from sklearn.model_selection import train_test_split\n",
    "from sklearn import datasets\n",
    "from sklearn.preprocessing import LabelEncoder\n",
    "\n",
    "import matplotlib.pyplot as plt\n",
    "import random\n",
    "%matplotlib inline\n"
   ]
  },
  {
   "cell_type": "markdown",
   "metadata": {},
   "source": [
    "### Read Data from Feather"
   ]
  },
  {
   "cell_type": "code",
   "execution_count": 57,
   "metadata": {},
   "outputs": [
    {
     "data": {
      "text/html": [
       "<div>\n",
       "<style scoped>\n",
       "    .dataframe tbody tr th:only-of-type {\n",
       "        vertical-align: middle;\n",
       "    }\n",
       "\n",
       "    .dataframe tbody tr th {\n",
       "        vertical-align: top;\n",
       "    }\n",
       "\n",
       "    .dataframe thead th {\n",
       "        text-align: right;\n",
       "    }\n",
       "</style>\n",
       "<table border=\"1\" class=\"dataframe\">\n",
       "  <thead>\n",
       "    <tr style=\"text-align: right;\">\n",
       "      <th></th>\n",
       "      <th>racenum</th>\n",
       "      <th>pos</th>\n",
       "      <th>hnum</th>\n",
       "      <th>odds</th>\n",
       "      <th>date</th>\n",
       "      <th>name</th>\n",
       "      <th>driver</th>\n",
       "      <th>trainer</th>\n",
       "      <th>seconds</th>\n",
       "      <th>temp</th>\n",
       "      <th>cond</th>\n",
       "      <th>winner</th>\n",
       "    </tr>\n",
       "  </thead>\n",
       "  <tbody>\n",
       "    <tr>\n",
       "      <th>0</th>\n",
       "      <td>1</td>\n",
       "      <td>2</td>\n",
       "      <td>6</td>\n",
       "      <td>2.60</td>\n",
       "      <td>2015-11-23</td>\n",
       "      <td>Ryder</td>\n",
       "      <td>Asher</td>\n",
       "      <td>Quincy</td>\n",
       "      <td>116.2</td>\n",
       "      <td>24.0</td>\n",
       "      <td>FT</td>\n",
       "      <td>0.0</td>\n",
       "    </tr>\n",
       "    <tr>\n",
       "      <th>1</th>\n",
       "      <td>1</td>\n",
       "      <td>5</td>\n",
       "      <td>1</td>\n",
       "      <td>4.85</td>\n",
       "      <td>2015-11-23</td>\n",
       "      <td>Ashlee</td>\n",
       "      <td>Zane</td>\n",
       "      <td>Carol</td>\n",
       "      <td>117.2</td>\n",
       "      <td>24.0</td>\n",
       "      <td>FT</td>\n",
       "      <td>0.0</td>\n",
       "    </tr>\n",
       "    <tr>\n",
       "      <th>2</th>\n",
       "      <td>1</td>\n",
       "      <td>6</td>\n",
       "      <td>3</td>\n",
       "      <td>4.00</td>\n",
       "      <td>2015-11-23</td>\n",
       "      <td>Carmen</td>\n",
       "      <td>Theresa</td>\n",
       "      <td>Brian</td>\n",
       "      <td>117.4</td>\n",
       "      <td>24.0</td>\n",
       "      <td>FT</td>\n",
       "      <td>0.0</td>\n",
       "    </tr>\n",
       "    <tr>\n",
       "      <th>3</th>\n",
       "      <td>2</td>\n",
       "      <td>4</td>\n",
       "      <td>4</td>\n",
       "      <td>28.60</td>\n",
       "      <td>2015-11-23</td>\n",
       "      <td>Rowland</td>\n",
       "      <td>Taryn</td>\n",
       "      <td>Quincy</td>\n",
       "      <td>117.0</td>\n",
       "      <td>24.0</td>\n",
       "      <td>FT</td>\n",
       "      <td>0.0</td>\n",
       "    </tr>\n",
       "    <tr>\n",
       "      <th>4</th>\n",
       "      <td>2</td>\n",
       "      <td>5</td>\n",
       "      <td>5</td>\n",
       "      <td>0.30</td>\n",
       "      <td>2015-11-23</td>\n",
       "      <td>Noe</td>\n",
       "      <td>Theresa</td>\n",
       "      <td>Braylon</td>\n",
       "      <td>118.0</td>\n",
       "      <td>24.0</td>\n",
       "      <td>FT</td>\n",
       "      <td>0.0</td>\n",
       "    </tr>\n",
       "  </tbody>\n",
       "</table>\n",
       "</div>"
      ],
      "text/plain": [
       "   racenum  pos  hnum   odds       date     name   driver  trainer  seconds  \\\n",
       "0        1    2     6   2.60 2015-11-23    Ryder    Asher   Quincy    116.2   \n",
       "1        1    5     1   4.85 2015-11-23   Ashlee     Zane    Carol    117.2   \n",
       "2        1    6     3   4.00 2015-11-23   Carmen  Theresa    Brian    117.4   \n",
       "3        2    4     4  28.60 2015-11-23  Rowland    Taryn   Quincy    117.0   \n",
       "4        2    5     5   0.30 2015-11-23      Noe  Theresa  Braylon    118.0   \n",
       "\n",
       "   temp cond  winner  \n",
       "0  24.0   FT     0.0  \n",
       "1  24.0   FT     0.0  \n",
       "2  24.0   FT     0.0  \n",
       "3  24.0   FT     0.0  \n",
       "4  24.0   FT     0.0  "
      ]
     },
     "execution_count": 57,
     "metadata": {},
     "output_type": "execute_result"
    }
   ],
   "source": [
    "dat = feather.read_dataframe('../data/sub_data.feather')\n",
    "dat.head(5)"
   ]
  },
  {
   "cell_type": "code",
   "execution_count": 9,
   "metadata": {},
   "outputs": [],
   "source": [
    "le = LabelEncoder()"
   ]
  },
  {
   "cell_type": "code",
   "execution_count": 25,
   "metadata": {},
   "outputs": [],
   "source": [
    "enc_cols = ['date', 'name', 'driver', 'trainer', 'cond']\n",
    "exp_cols = ['date', 'name', 'driver', 'trainer', 'cond', 'temp', 'hnum']"
   ]
  },
  {
   "cell_type": "code",
   "execution_count": 40,
   "metadata": {
    "scrolled": true
   },
   "outputs": [
    {
     "name": "stderr",
     "output_type": "stream",
     "text": [
      "/anaconda/lib/python3.6/site-packages/pandas/core/frame.py:2540: SettingWithCopyWarning: \n",
      "A value is trying to be set on a copy of a slice from a DataFrame.\n",
      "Try using .loc[row_indexer,col_indexer] = value instead\n",
      "\n",
      "See the caveats in the documentation: http://pandas.pydata.org/pandas-docs/stable/indexing.html#indexing-view-versus-copy\n",
      "  self[k1] = value[k2]\n"
     ]
    }
   ],
   "source": [
    "X = dat[exp_cols]    # these are the features\n",
    "y = dat['winner']    # these are the labels (1: win 0: not win)\n",
    "y_multi = dat['pos'] # these are the labels for multinomial logistic regression\n",
    "X[enc_cols] = X[enc_cols].apply(le.fit_transform) # encode the string value columns"
   ]
  },
  {
   "cell_type": "markdown",
   "metadata": {},
   "source": [
    "### Fit Logistic Regression Model:"
   ]
  },
  {
   "cell_type": "code",
   "execution_count": 86,
   "metadata": {},
   "outputs": [
    {
     "name": "stdout",
     "output_type": "stream",
     "text": [
      "Logistic Regression training error: 0.175367\n",
      "Logistic Regression test error: 0.198697\n"
     ]
    }
   ],
   "source": [
    "X_train, X_validation, y_train, y_validation = train_test_split(X, y, test_size=0.2)\n",
    "\n",
    "model = LogisticRegression()\n",
    "\n",
    "model.fit(X_train, y_train)\n",
    "#multi_class=multinomial\n",
    "\n",
    "print(\"Logistic Regression training error: %f\" % (1.0-model.score(X_train,y_train)))\n",
    "print(\"Logistic Regression test error: %f\" % (1.0-model.score(X_validation,y_validation)))"
   ]
  },
  {
   "cell_type": "code",
   "execution_count": 87,
   "metadata": {},
   "outputs": [],
   "source": [
    "y_pred = model.predict(X_train)"
   ]
  },
  {
   "cell_type": "code",
   "execution_count": 88,
   "metadata": {},
   "outputs": [
    {
     "name": "stdout",
     "output_type": "stream",
     "text": [
      "Predicted values are all 0 as the following ratio is 1.0\n"
     ]
    }
   ],
   "source": [
    "print(\"Predicted values are all 0 as the following ratio is\", len(y_pred[y_pred == 0])/len(y_pred))"
   ]
  },
  {
   "cell_type": "code",
   "execution_count": 90,
   "metadata": {},
   "outputs": [
    {
     "name": "stdout",
     "output_type": "stream",
     "text": [
      "Not winner percentage in training set 0.82\n"
     ]
    }
   ],
   "source": [
    "print(\"Not winner percentage in training set\", round(len(y_train[y_train == 0])/len(y_train),2))"
   ]
  },
  {
   "cell_type": "markdown",
   "metadata": {},
   "source": [
    "### Fit Multiclass Logistic Regression Model:"
   ]
  },
  {
   "cell_type": "code",
   "execution_count": 65,
   "metadata": {},
   "outputs": [
    {
     "name": "stdout",
     "output_type": "stream",
     "text": [
      "Multinomial Logistic Regression training error: 0.798695\n",
      "Multinomial Logistic Regression test error: 0.843478\n"
     ]
    }
   ],
   "source": [
    "X_train, X_validation, y_train, y_validation = train_test_split(X, y_multi, test_size=0.3)\n",
    "\n",
    "model_multi = LogisticRegression(multi_class='multinomial', solver = 'lbfgs')\n",
    "\n",
    "model_multi.fit(X_train, y_train)\n",
    "#multi_class=multinomial\n",
    "\n",
    "print(\"Multinomial Logistic Regression training error: %f\" % (1.0-model_multi.score(X_train,y_train)))\n",
    "print(\"Multinomial Logistic Regression test error: %f\" % (1.0-model_multi.score(X_validation,y_validation)))"
   ]
  },
  {
   "cell_type": "code",
   "execution_count": 76,
   "metadata": {},
   "outputs": [],
   "source": [
    "y_pred_multi = model_multi.predict(X_train)"
   ]
  },
  {
   "cell_type": "code",
   "execution_count": 83,
   "metadata": {},
   "outputs": [
    {
     "name": "stdout",
     "output_type": "stream",
     "text": [
      "Predicted winner as a percentage: 0.24\n",
      "Winner percentage in training set: 0.17\n"
     ]
    }
   ],
   "source": [
    "print(\"Predicted winner as a percentage:\", round(len(y_pred_multi[y_pred_multi == 1])/len(y_pred_multi),2))\n",
    "print(\"Winner percentage in training set:\", round(len(y_train[y_train == 1])/len(y_train),2))"
   ]
  },
  {
   "cell_type": "code",
   "execution_count": null,
   "metadata": {},
   "outputs": [],
   "source": []
  }
 ],
 "metadata": {
  "kernelspec": {
   "display_name": "Python 3",
   "language": "python",
   "name": "python3"
  },
  "language_info": {
   "codemirror_mode": {
    "name": "ipython",
    "version": 3
   },
   "file_extension": ".py",
   "mimetype": "text/x-python",
   "name": "python",
   "nbconvert_exporter": "python",
   "pygments_lexer": "ipython3",
   "version": "3.6.5"
  }
 },
 "nbformat": 4,
 "nbformat_minor": 2
}
